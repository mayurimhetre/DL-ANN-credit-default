{
  "nbformat": 4,
  "nbformat_minor": 0,
  "metadata": {
    "colab": {
      "name": "credit_ANN_pytorch.ipynb",
      "provenance": [],
      "collapsed_sections": []
    },
    "kernelspec": {
      "name": "python3",
      "display_name": "Python 3"
    },
    "language_info": {
      "name": "python"
    },
    "accelerator": "GPU"
  },
  "cells": [
    {
      "cell_type": "code",
      "metadata": {
        "colab": {
          "base_uri": "https://localhost:8080/"
        },
        "id": "16DUkprw74WJ",
        "outputId": "5290f1f6-fb5d-468d-dd2c-cb23ff0166d5"
      },
      "source": [
        "from google.colab import drive\n",
        "drive.mount('/content/drive')"
      ],
      "execution_count": 1,
      "outputs": [
        {
          "output_type": "stream",
          "text": [
            "Mounted at /content/drive\n"
          ],
          "name": "stdout"
        }
      ]
    },
    {
      "cell_type": "code",
      "metadata": {
        "id": "GcP79dg68qPj"
      },
      "source": [
        "import pandas as pd\n",
        "import seaborn as sns\n",
        "import matplotlib.pyplot as plt\n",
        "import  numpy as np"
      ],
      "execution_count": 3,
      "outputs": []
    },
    {
      "cell_type": "code",
      "metadata": {
        "id": "vIsKI_Q79L9s"
      },
      "source": [
        "train_data = pd.read_excel('/content/drive/MyDrive/Python_google_colab/archive (2)/default of credit card clients.xls')"
      ],
      "execution_count": 4,
      "outputs": []
    },
    {
      "cell_type": "code",
      "metadata": {
        "colab": {
          "base_uri": "https://localhost:8080/",
          "height": 275
        },
        "id": "1uMTBDsR9ZkW",
        "outputId": "33fb3bec-9caa-436e-cb76-369a5aca2a79"
      },
      "source": [
        "train_data.head()"
      ],
      "execution_count": 5,
      "outputs": [
        {
          "output_type": "execute_result",
          "data": {
            "text/html": [
              "<div>\n",
              "<style scoped>\n",
              "    .dataframe tbody tr th:only-of-type {\n",
              "        vertical-align: middle;\n",
              "    }\n",
              "\n",
              "    .dataframe tbody tr th {\n",
              "        vertical-align: top;\n",
              "    }\n",
              "\n",
              "    .dataframe thead th {\n",
              "        text-align: right;\n",
              "    }\n",
              "</style>\n",
              "<table border=\"1\" class=\"dataframe\">\n",
              "  <thead>\n",
              "    <tr style=\"text-align: right;\">\n",
              "      <th></th>\n",
              "      <th>ID</th>\n",
              "      <th>LIMIT_BAL</th>\n",
              "      <th>SEX</th>\n",
              "      <th>EDUCATION</th>\n",
              "      <th>MARRIAGE</th>\n",
              "      <th>AGE</th>\n",
              "      <th>PAY_0</th>\n",
              "      <th>PAY_2</th>\n",
              "      <th>PAY_3</th>\n",
              "      <th>PAY_4</th>\n",
              "      <th>PAY_5</th>\n",
              "      <th>PAY_6</th>\n",
              "      <th>BILL_AMT1</th>\n",
              "      <th>BILL_AMT2</th>\n",
              "      <th>BILL_AMT3</th>\n",
              "      <th>BILL_AMT4</th>\n",
              "      <th>BILL_AMT5</th>\n",
              "      <th>BILL_AMT6</th>\n",
              "      <th>PAY_AMT1</th>\n",
              "      <th>PAY_AMT2</th>\n",
              "      <th>PAY_AMT3</th>\n",
              "      <th>PAY_AMT4</th>\n",
              "      <th>PAY_AMT5</th>\n",
              "      <th>PAY_AMT6</th>\n",
              "      <th>default payment next month</th>\n",
              "    </tr>\n",
              "  </thead>\n",
              "  <tbody>\n",
              "    <tr>\n",
              "      <th>0</th>\n",
              "      <td>1</td>\n",
              "      <td>20000</td>\n",
              "      <td>2</td>\n",
              "      <td>2</td>\n",
              "      <td>1</td>\n",
              "      <td>24</td>\n",
              "      <td>2</td>\n",
              "      <td>2</td>\n",
              "      <td>-1</td>\n",
              "      <td>-1</td>\n",
              "      <td>-2</td>\n",
              "      <td>-2</td>\n",
              "      <td>3913</td>\n",
              "      <td>3102</td>\n",
              "      <td>689</td>\n",
              "      <td>0</td>\n",
              "      <td>0</td>\n",
              "      <td>0</td>\n",
              "      <td>0</td>\n",
              "      <td>689</td>\n",
              "      <td>0</td>\n",
              "      <td>0</td>\n",
              "      <td>0</td>\n",
              "      <td>0</td>\n",
              "      <td>1</td>\n",
              "    </tr>\n",
              "    <tr>\n",
              "      <th>1</th>\n",
              "      <td>2</td>\n",
              "      <td>120000</td>\n",
              "      <td>2</td>\n",
              "      <td>2</td>\n",
              "      <td>2</td>\n",
              "      <td>26</td>\n",
              "      <td>-1</td>\n",
              "      <td>2</td>\n",
              "      <td>0</td>\n",
              "      <td>0</td>\n",
              "      <td>0</td>\n",
              "      <td>2</td>\n",
              "      <td>2682</td>\n",
              "      <td>1725</td>\n",
              "      <td>2682</td>\n",
              "      <td>3272</td>\n",
              "      <td>3455</td>\n",
              "      <td>3261</td>\n",
              "      <td>0</td>\n",
              "      <td>1000</td>\n",
              "      <td>1000</td>\n",
              "      <td>1000</td>\n",
              "      <td>0</td>\n",
              "      <td>2000</td>\n",
              "      <td>1</td>\n",
              "    </tr>\n",
              "    <tr>\n",
              "      <th>2</th>\n",
              "      <td>3</td>\n",
              "      <td>90000</td>\n",
              "      <td>2</td>\n",
              "      <td>2</td>\n",
              "      <td>2</td>\n",
              "      <td>34</td>\n",
              "      <td>0</td>\n",
              "      <td>0</td>\n",
              "      <td>0</td>\n",
              "      <td>0</td>\n",
              "      <td>0</td>\n",
              "      <td>0</td>\n",
              "      <td>29239</td>\n",
              "      <td>14027</td>\n",
              "      <td>13559</td>\n",
              "      <td>14331</td>\n",
              "      <td>14948</td>\n",
              "      <td>15549</td>\n",
              "      <td>1518</td>\n",
              "      <td>1500</td>\n",
              "      <td>1000</td>\n",
              "      <td>1000</td>\n",
              "      <td>1000</td>\n",
              "      <td>5000</td>\n",
              "      <td>0</td>\n",
              "    </tr>\n",
              "    <tr>\n",
              "      <th>3</th>\n",
              "      <td>4</td>\n",
              "      <td>50000</td>\n",
              "      <td>2</td>\n",
              "      <td>2</td>\n",
              "      <td>1</td>\n",
              "      <td>37</td>\n",
              "      <td>0</td>\n",
              "      <td>0</td>\n",
              "      <td>0</td>\n",
              "      <td>0</td>\n",
              "      <td>0</td>\n",
              "      <td>0</td>\n",
              "      <td>46990</td>\n",
              "      <td>48233</td>\n",
              "      <td>49291</td>\n",
              "      <td>28314</td>\n",
              "      <td>28959</td>\n",
              "      <td>29547</td>\n",
              "      <td>2000</td>\n",
              "      <td>2019</td>\n",
              "      <td>1200</td>\n",
              "      <td>1100</td>\n",
              "      <td>1069</td>\n",
              "      <td>1000</td>\n",
              "      <td>0</td>\n",
              "    </tr>\n",
              "    <tr>\n",
              "      <th>4</th>\n",
              "      <td>5</td>\n",
              "      <td>50000</td>\n",
              "      <td>1</td>\n",
              "      <td>2</td>\n",
              "      <td>1</td>\n",
              "      <td>57</td>\n",
              "      <td>-1</td>\n",
              "      <td>0</td>\n",
              "      <td>-1</td>\n",
              "      <td>0</td>\n",
              "      <td>0</td>\n",
              "      <td>0</td>\n",
              "      <td>8617</td>\n",
              "      <td>5670</td>\n",
              "      <td>35835</td>\n",
              "      <td>20940</td>\n",
              "      <td>19146</td>\n",
              "      <td>19131</td>\n",
              "      <td>2000</td>\n",
              "      <td>36681</td>\n",
              "      <td>10000</td>\n",
              "      <td>9000</td>\n",
              "      <td>689</td>\n",
              "      <td>679</td>\n",
              "      <td>0</td>\n",
              "    </tr>\n",
              "  </tbody>\n",
              "</table>\n",
              "</div>"
            ],
            "text/plain": [
              "   ID  LIMIT_BAL  SEX  ...  PAY_AMT5  PAY_AMT6  default payment next month\n",
              "0   1      20000    2  ...         0         0                           1\n",
              "1   2     120000    2  ...         0      2000                           1\n",
              "2   3      90000    2  ...      1000      5000                           0\n",
              "3   4      50000    2  ...      1069      1000                           0\n",
              "4   5      50000    1  ...       689       679                           0\n",
              "\n",
              "[5 rows x 25 columns]"
            ]
          },
          "metadata": {
            "tags": []
          },
          "execution_count": 5
        }
      ]
    },
    {
      "cell_type": "code",
      "metadata": {
        "colab": {
          "base_uri": "https://localhost:8080/"
        },
        "id": "JwbsJnF99dIK",
        "outputId": "9e2b7ccd-a747-4ce0-e524-c7b199471113"
      },
      "source": [
        "train_data.shape"
      ],
      "execution_count": 6,
      "outputs": [
        {
          "output_type": "execute_result",
          "data": {
            "text/plain": [
              "(30000, 25)"
            ]
          },
          "metadata": {
            "tags": []
          },
          "execution_count": 6
        }
      ]
    },
    {
      "cell_type": "code",
      "metadata": {
        "colab": {
          "base_uri": "https://localhost:8080/"
        },
        "id": "QQnoReF09flc",
        "outputId": "2a27a8c0-0602-433e-c8e5-2277fda62ae8"
      },
      "source": [
        "########## checking for coreelation #############\n",
        "def correlation(dataset, threshold):\n",
        "    col_corr = set()  # Set of all the names of correlated columns\n",
        "    corr_matrix = dataset.corr()\n",
        "    for i in range(len(corr_matrix.columns)):\n",
        "        for j in range(i):\n",
        "            if abs(corr_matrix.iloc[i, j]) > threshold: # we are interested in absolute coeff value\n",
        "                colname = corr_matrix.columns[i]  # getting the name of column\n",
        "                col_corr.add(colname)\n",
        "    return col_corr\n",
        "\n",
        "correlation(train_data,0.7)"
      ],
      "execution_count": 7,
      "outputs": [
        {
          "output_type": "execute_result",
          "data": {
            "text/plain": [
              "{'BILL_AMT2',\n",
              " 'BILL_AMT3',\n",
              " 'BILL_AMT4',\n",
              " 'BILL_AMT5',\n",
              " 'BILL_AMT6',\n",
              " 'PAY_3',\n",
              " 'PAY_4',\n",
              " 'PAY_5',\n",
              " 'PAY_6'}"
            ]
          },
          "metadata": {
            "tags": []
          },
          "execution_count": 7
        }
      ]
    },
    {
      "cell_type": "code",
      "metadata": {
        "id": "11dBRKSK9lof"
      },
      "source": [
        "train_data = train_data.drop(['BILL_AMT2',\n",
        " 'BILL_AMT3',\n",
        " 'BILL_AMT4',\n",
        " 'BILL_AMT5',\n",
        " 'BILL_AMT6',\n",
        " 'PAY_3',\n",
        " 'PAY_4',\n",
        " 'PAY_5',\n",
        " 'PAY_6'],axis=1)"
      ],
      "execution_count": 8,
      "outputs": []
    },
    {
      "cell_type": "code",
      "metadata": {
        "colab": {
          "base_uri": "https://localhost:8080/"
        },
        "id": "9mBvOU0D9qEP",
        "outputId": "85a9c1fa-2cf7-4e7f-ca3a-d4b3dab63dc6"
      },
      "source": [
        "train_data.shape"
      ],
      "execution_count": 9,
      "outputs": [
        {
          "output_type": "execute_result",
          "data": {
            "text/plain": [
              "(30000, 16)"
            ]
          },
          "metadata": {
            "tags": []
          },
          "execution_count": 9
        }
      ]
    },
    {
      "cell_type": "code",
      "metadata": {
        "id": "W0BOjqgF9sTR"
      },
      "source": [
        "import torch\n",
        "\n",
        "X = train_data.drop(['ID','default payment next month'],axis=1)\n",
        "y = train_data['default payment next month']\n",
        "\n",
        "from sklearn.model_selection import train_test_split\n",
        "X_train,X_test,y_train,y_test = train_test_split(X,y,test_size = 0.3)\n",
        "\n",
        "from sklearn.preprocessing import StandardScaler\n",
        "sm = StandardScaler()\n",
        "X_train_scaled = sm.fit_transform(X_train)\n",
        "X_test_scaled = sm.transform(X_test)\n",
        "\n",
        "\n"
      ],
      "execution_count": 10,
      "outputs": []
    },
    {
      "cell_type": "code",
      "metadata": {
        "id": "xMdaKipe99DI"
      },
      "source": [
        "X_train=torch.FloatTensor(X_train_scaled).cuda()\n",
        "X_test=torch.FloatTensor(X_test_scaled).cuda()\n",
        "y_train= torch.LongTensor(y_train.values).cuda()\n",
        "y_test=torch.LongTensor(y_test.values).cuda()"
      ],
      "execution_count": 11,
      "outputs": []
    },
    {
      "cell_type": "code",
      "metadata": {
        "id": "aXswdrs09_bC"
      },
      "source": [
        "import torch\n",
        "from torch import nn\n",
        "import torchvision\n",
        "\n",
        "class ANN_cancer(nn.Module):\n",
        "  def __init__(self,input=14,hidden1=7,hidden2=3,output=2):\n",
        "    super(ANN_cancer,self).__init__()\n",
        "    self.FC1 = nn.Linear(input,hidden1)\n",
        "    self.relu1 = nn.ReLU()\n",
        "    self.FC2 = nn.Linear(hidden1,hidden2)\n",
        "    self.relu2 = nn.ReLU()\n",
        "    self.FC3 = nn.Linear(hidden2,output)\n",
        "  def forward(self,x):\n",
        "    x = self.FC1(x)\n",
        "    x = self.relu1(x)\n",
        "    x = self.FC2(x)\n",
        "    x = self.relu2(x)\n",
        "    x = self.FC3(x)\n",
        "    #y_pred  = torch.sigmoid(x)\n",
        "    return x"
      ],
      "execution_count": 29,
      "outputs": []
    },
    {
      "cell_type": "code",
      "metadata": {
        "colab": {
          "base_uri": "https://localhost:8080/"
        },
        "id": "VhQWD8XB-Ics",
        "outputId": "6704fd77-6ec0-40db-9819-504b6f7d2faa"
      },
      "source": [
        "model1 = ANN_cancer()\n",
        "loss_fn = nn.CrossEntropyLoss()\n",
        "optimizer1 = torch.optim.Adam(model1.parameters(), lr = 0.05)\n",
        "\n",
        "\n",
        "#from  torch.optim.lr_scheduler import LambdaLR\n",
        "\n",
        "# Assuming optimizer has two groups.\n",
        "\n",
        "#lambda2  = lambda epoch: 0.65 * epoch\n",
        "#scheduler = torch.optim.lr_scheduler.MultiplicativeLR(optimizer1, lr_lambda= lambda2)\n",
        "\n",
        "model1  = model1.cuda()\n",
        "\n",
        "print(model1.parameters)"
      ],
      "execution_count": 94,
      "outputs": [
        {
          "output_type": "stream",
          "text": [
            "<bound method Module.parameters of ANN_cancer(\n",
            "  (FC1): Linear(in_features=14, out_features=7, bias=True)\n",
            "  (relu1): ReLU()\n",
            "  (FC2): Linear(in_features=7, out_features=3, bias=True)\n",
            "  (relu2): ReLU()\n",
            "  (FC3): Linear(in_features=3, out_features=2, bias=True)\n",
            ")>\n"
          ],
          "name": "stdout"
        }
      ]
    },
    {
      "cell_type": "code",
      "metadata": {
        "colab": {
          "base_uri": "https://localhost:8080/"
        },
        "id": "Czlr0D6b-OqN",
        "outputId": "4c313555-926b-4b8f-8715-8733c44d21ed"
      },
      "source": [
        "epochs = 500\n",
        "final_losses=[]\n",
        "for i in range(epochs):\n",
        "  y_pred1 = model1.forward(X_train)\n",
        "  \n",
        "  optimizer1.zero_grad()\n",
        "  #l1 = loss_fn(y_pred1,y_train.reshape(-1,1))\n",
        "  l1 = loss_fn(y_pred1,y_train)\n",
        "  if i%10 == 0:\n",
        "    print(\"Epoch number: {} and the loss : {}\".format(i,l1))\n",
        "  l1.backward()\n",
        "  final_losses.append(l1)\n",
        "  optimizer1.step()\n",
        "  #scheduler.step()"
      ],
      "execution_count": 95,
      "outputs": [
        {
          "output_type": "stream",
          "text": [
            "Epoch number: 0 and the loss : 0.7842636704444885\n",
            "Epoch number: 10 and the loss : 0.5014558434486389\n",
            "Epoch number: 20 and the loss : 0.4901418387889862\n",
            "Epoch number: 30 and the loss : 0.4855024516582489\n",
            "Epoch number: 40 and the loss : 0.47901028394699097\n",
            "Epoch number: 50 and the loss : 0.46312040090560913\n",
            "Epoch number: 60 and the loss : 0.45136481523513794\n",
            "Epoch number: 70 and the loss : 0.44705328345298767\n",
            "Epoch number: 80 and the loss : 0.44507622718811035\n",
            "Epoch number: 90 and the loss : 0.4438835084438324\n",
            "Epoch number: 100 and the loss : 0.44284147024154663\n",
            "Epoch number: 110 and the loss : 0.4419374167919159\n",
            "Epoch number: 120 and the loss : 0.4411226212978363\n",
            "Epoch number: 130 and the loss : 0.4403005540370941\n",
            "Epoch number: 140 and the loss : 0.4395134747028351\n",
            "Epoch number: 150 and the loss : 0.4389455020427704\n",
            "Epoch number: 160 and the loss : 0.4383510649204254\n",
            "Epoch number: 170 and the loss : 0.437748521566391\n",
            "Epoch number: 180 and the loss : 0.4373990297317505\n",
            "Epoch number: 190 and the loss : 0.437201589345932\n",
            "Epoch number: 200 and the loss : 0.437039852142334\n",
            "Epoch number: 210 and the loss : 0.4368570148944855\n",
            "Epoch number: 220 and the loss : 0.4367453455924988\n",
            "Epoch number: 230 and the loss : 0.43661928176879883\n",
            "Epoch number: 240 and the loss : 0.43651753664016724\n",
            "Epoch number: 250 and the loss : 0.4364699721336365\n",
            "Epoch number: 260 and the loss : 0.4364238381385803\n",
            "Epoch number: 270 and the loss : 0.4363635182380676\n",
            "Epoch number: 280 and the loss : 0.43628138303756714\n",
            "Epoch number: 290 and the loss : 0.4363594353199005\n",
            "Epoch number: 300 and the loss : 0.4362238049507141\n",
            "Epoch number: 310 and the loss : 0.4361672103404999\n",
            "Epoch number: 320 and the loss : 0.43601083755493164\n",
            "Epoch number: 330 and the loss : 0.43588486313819885\n",
            "Epoch number: 340 and the loss : 0.43581268191337585\n",
            "Epoch number: 350 and the loss : 0.4355076253414154\n",
            "Epoch number: 360 and the loss : 0.4351141154766083\n",
            "Epoch number: 370 and the loss : 0.4348864257335663\n",
            "Epoch number: 380 and the loss : 0.435029536485672\n",
            "Epoch number: 390 and the loss : 0.4346655011177063\n",
            "Epoch number: 400 and the loss : 0.43450111150741577\n",
            "Epoch number: 410 and the loss : 0.43446865677833557\n",
            "Epoch number: 420 and the loss : 0.4344472289085388\n",
            "Epoch number: 430 and the loss : 0.43443796038627625\n",
            "Epoch number: 440 and the loss : 0.43440675735473633\n",
            "Epoch number: 450 and the loss : 0.4343830943107605\n",
            "Epoch number: 460 and the loss : 0.43440428376197815\n",
            "Epoch number: 470 and the loss : 0.4343799650669098\n",
            "Epoch number: 480 and the loss : 0.4343508183956146\n",
            "Epoch number: 490 and the loss : 0.43454456329345703\n"
          ],
          "name": "stdout"
        }
      ]
    },
    {
      "cell_type": "code",
      "metadata": {
        "colab": {
          "base_uri": "https://localhost:8080/",
          "height": 516
        },
        "id": "G2-hwt1h-Rei",
        "outputId": "c0e784ae-d7a2-40f5-b73c-2625c43e19cf"
      },
      "source": [
        "\n",
        "import matplotlib.pyplot as plt\n",
        "plt.figure(figsize=(10,8))\n",
        "plt.plot(range(epochs),final_losses)\n",
        "plt.ylabel('Loss')\n",
        "plt.xlabel('Epoch')"
      ],
      "execution_count": 96,
      "outputs": [
        {
          "output_type": "execute_result",
          "data": {
            "text/plain": [
              "Text(0.5, 0, 'Epoch')"
            ]
          },
          "metadata": {
            "tags": []
          },
          "execution_count": 96
        },
        {
          "output_type": "display_data",
          "data": {
            "image/png": "[encoded data removed]",
            "text/plain": [
              "<Figure size 720x576 with 1 Axes>"
            ]
          },
          "metadata": {
            "tags": [],
            "needs_background": "light"
          }
        }
      ]
    },
    {
      "cell_type": "code",
      "metadata": {
        "colab": {
          "base_uri": "https://localhost:8080/"
        },
        "id": "ef9uqeQ4-Wxl",
        "outputId": "a278eb4d-1381-4ccc-e24c-3a820fa96e1c"
      },
      "source": [
        "predictions=[]\n",
        "with torch.no_grad():\n",
        "    for i,data in enumerate(X_test):\n",
        "        y_pred12=model1(data)\n",
        "        predictions.append(y_pred12.argmax().item())\n",
        "\n",
        "\n",
        "\n",
        "\n",
        "y_test1 = y_test.cpu().numpy()\n",
        "from sklearn.metrics import confusion_matrix\n",
        "cm=confusion_matrix(y_test1,predictions)\n",
        "print(\"cm\\n\" , cm)\n",
        "\n",
        "from sklearn.metrics import accuracy_score\n",
        "score=accuracy_score(y_test1,predictions)\n",
        "print(\"score\", score)"
      ],
      "execution_count": 97,
      "outputs": [
        {
          "output_type": "stream",
          "text": [
            "cm\n",
            " [[6696  337]\n",
            " [1281  686]]\n",
            "score 0.8202222222222222\n"
          ],
          "name": "stdout"
        }
      ]
    },
    {
      "cell_type": "code",
      "metadata": {
        "id": "3JjBYkgX-2a4"
      },
      "source": [
        ""
      ],
      "execution_count": null,
      "outputs": []
    }
  ]
}